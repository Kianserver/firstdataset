{
  "nbformat": 4,
  "nbformat_minor": 0,
  "metadata": {
    "colab": {
      "provenance": [],
      "authorship_tag": "ABX9TyN4Cv97QoVdFIQLscRJ/anF",
      "include_colab_link": true
    },
    "kernelspec": {
      "name": "python3",
      "display_name": "Python 3"
    },
    "language_info": {
      "name": "python"
    }
  },
  "cells": [
    {
      "cell_type": "markdown",
      "metadata": {
        "id": "view-in-github",
        "colab_type": "text"
      },
      "source": [
        "<a href=\"https://colab.research.google.com/github/Kianserver/firstdataset/blob/main/first_practice.ipynb\" target=\"_parent\"><img src=\"https://colab.research.google.com/assets/colab-badge.svg\" alt=\"Open In Colab\"/></a>"
      ]
    },
    {
      "cell_type": "code",
      "execution_count": 1,
      "metadata": {
        "colab": {
          "base_uri": "https://localhost:8080/"
        },
        "id": "3knnVlPU2e0v",
        "outputId": "a10ee119-249f-4a20-8143-8aa0a8a3de46"
      },
      "outputs": [
        {
          "output_type": "stream",
          "name": "stdout",
          "text": [
            "Looking in indexes: https://pypi.org/simple, https://us-python.pkg.dev/colab-wheels/public/simple/\n",
            "Requirement already satisfied: tabulate in /usr/local/lib/python3.7/dist-packages (0.8.10)\n"
          ]
        }
      ],
      "source": [
        "!pip install tabulate\n",
        "from tabulate import tabulate"
      ]
    },
    {
      "cell_type": "code",
      "source": [
        "#The repayment period is in years.\n",
        "\n",
        "def fv(rate , total_value , periods):\n",
        "  i=1\n",
        "  for i in range (periods):\n",
        "    total_value = total_value*(1+rate)\n",
        "  return int(total_value)\n",
        "\n",
        "def pv(rate , periods , future_value):\n",
        "  present_value = future_value/pow(1+rate , periods)\n",
        "  return int(present_value)\n"
      ],
      "metadata": {
        "id": "2IoyIHUP2gFb"
      },
      "execution_count": 90,
      "outputs": []
    },
    {
      "cell_type": "code",
      "source": [
        "#I am sorry, I didn't realize exactly what the question says and wants. Hence, I migh did wrong. For example, I really did not know how to calculate pv or fv without numpy.\n",
        "\n",
        "my_list = []\n",
        "code=[]\n",
        "prevalues=[]\n",
        "loan=[]\n",
        "loan_per=[]\n",
        "\n",
        "columns = ['code','total','repayment','blocked','rate','periods','present value', 'future value']\n",
        "loan.append(columns)\n",
        "\n",
        "while str(input(\"Enter (+) if you want to stop the operation. Otherwise, press enter: \\n\")) != \"+\":\n",
        "  code=input(\"Enter the code of Loan:\")\n",
        "  prevalues = input(\"Please input the loans details in order and separate the values with space: (TOTAL REPAYMENT BLOCKED RATE PERIODS).\\n\")\n",
        "\n",
        "  prevalues=prevalues.split()\n",
        "  rate =prevalues[3]\n",
        "  total = prevalues[0]\n",
        "  periods=prevalues[4]\n",
        "  future_value= fv(float(rate) , int(total) , int(periods))\n",
        "  present_value= pv(float(rate) , int(periods) , int(future_value))\n",
        "  prevalues.append(present_value)\n",
        "  prevalues.append(future_value)\n",
        "  prevalues.insert(0,code)\n",
        "  loan.append(prevalues)\n",
        "\n",
        "\n",
        "\n",
        "print(tabulate(loan))"
      ],
      "metadata": {
        "colab": {
          "base_uri": "https://localhost:8080/"
        },
        "id": "UueqUVTC2hgO",
        "outputId": "8c36aeed-8fc2-4d35-e7f8-cb34a64a7f8a"
      },
      "execution_count": 92,
      "outputs": [
        {
          "output_type": "stream",
          "name": "stdout",
          "text": [
            "Enter (+) if you want to stop the operation. Otherwise, press enter: \n",
            "\n",
            "Enter the code of Loan:b11\n",
            "Please input the loans details in order and separate the values with space: (TOTAL REPAYMENT BLOCKED RATE PERIODS).\n",
            "50000000 10000000 0 0.2 1\n",
            "Enter (+) if you want to stop the operation. Otherwise, press enter: \n",
            "+\n",
            "----  --------  ---------  -------  ----  -------  -------------  ------------\n",
            "code  total     repayment  blocked  rate  periods  present value  future value\n",
            "b11   50000000  10000000   0        0.2   1        50000000       60000000\n",
            "----  --------  ---------  -------  ----  -------  -------------  ------------\n"
          ]
        }
      ]
    }
  ]
}